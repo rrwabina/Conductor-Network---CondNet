{
 "cells": [
  {
   "cell_type": "code",
   "execution_count": 1,
   "metadata": {},
   "outputs": [],
   "source": [
    "import torch\n",
    "torch.cuda.empty_cache()\n",
    "\n",
    "import torchvision.transforms as transforms \n",
    "\n",
    "from utils import image_size, image_loader, view_image\n",
    "from data_loader import load_split_data\n",
    "\n",
    "device = torch.device('cuda:0' if torch.cuda.is_available() else 'cpu')\n",
    "train_loader = load_split_data('train')\n",
    "\n",
    "transform = transforms.Compose([\n",
    "    transforms.Normalize(\n",
    "        mean=[0.485],\n",
    "        std =[0.229]),\n",
    "    transforms.Resize(48)\n",
    "    \n",
    "])\n",
    "\n",
    "t1w, t2w = image_loader(train_loader, 2)\n",
    "t1w, t2w = image_size(t1w, 1), image_size(t2w, 2)\n",
    "t1w, t2w = transform(t1w), transform(t2w)"
   ]
  },
  {
   "cell_type": "code",
   "execution_count": 2,
   "metadata": {},
   "outputs": [],
   "source": [
    "import torch\n",
    "import torch.nn as nn\n",
    "from typing import List, Dict\n",
    "from torchsummary import summary\n",
    "\n",
    "class CnvMod(nn.Module):\n",
    "    def __init__(self, input_channel, output_channel, kernel_size = (5, 5)):\n",
    "        super(CnvMod, self).__init__()\n",
    "        self.block = nn.Sequential(\n",
    "            nn.Conv2d(input_channel, output_channel, \n",
    "                        kernel_size = (1, 1), bias = False),\n",
    "            nn.BatchNorm2d(output_channel),\n",
    "            nn.ReLU(inplace = True)\n",
    "        )\n",
    "    def forward(self, x: torch.Tensor) -> torch.Tensor:\n",
    "        return self.block(x)\n",
    "\n",
    "class EncMod(nn.Module):\n",
    "    def __init__(self, input_channel, output_channel):\n",
    "        super(EncMod, self).__init__()\n",
    "        self.block = nn.Sequential(\n",
    "            CnvMod(input_channel, output_channel, kernel_size = (3, 3)),\n",
    "            nn.MaxPool2d(1)\n",
    "        )\n",
    "    def forward(self, x: torch.Tensor) -> torch.Tensor:\n",
    "        return self.block(x)\n",
    "\n",
    "class DecMod(nn.Module):\n",
    "    def __init__(self, input_channel, output_channel):\n",
    "        super(DecMod, self).__init__()\n",
    "        self.block = nn.Sequential(\n",
    "            nn.ConvTranspose2d(input_channel, output_channel,\n",
    "                                kernel_size = (2, 2), bias = False),\n",
    "            nn.BatchNorm2d(output_channel),\n",
    "            nn.ReLU(inplace = True)\n",
    "        )\n",
    "    def forward(self, x):\n",
    "        return self.block(x)\n",
    "\n",
    "class Map(nn.Module):\n",
    "    def __init__(self, input_channel, output_channel):\n",
    "        super(Map, self).__init__()\n",
    "        self.block = nn.Sequential(\n",
    "            nn.Conv2d(input_channel, output_channel, \n",
    "                        kernel_size = (4, 4)),\n",
    "            nn.LogSigmoid()\n",
    "        )\n",
    "    def forward(self, x):\n",
    "        return self.block(x)"
   ]
  },
  {
   "cell_type": "code",
   "execution_count": 4,
   "metadata": {},
   "outputs": [],
   "source": [
    "class EncoderTrack(nn.Module):\n",
    "    def __init__(self):\n",
    "        super(EncoderTrack, self).__init__()\n",
    "        self.encodermodules = nn.ModuleList([\n",
    "            EncMod(1 if i == 0 else 2 ** (i + 1), 2 ** (i + 2)) for i in range(0, 5)\n",
    "        ])\n",
    "        self.decodermodule = DecMod(64, 64)\n",
    "        self.encodermodule = EncMod(64, 128)\n",
    "\n",
    "    def encoder_track(self, x):\n",
    "        for encoder in self.encodermodules:\n",
    "            x = encoder(x)\n",
    "        return self.encodermodule(self.decodermodule(x))\n",
    "    \n",
    "    def forward(self, a, b):\n",
    "        return torch.concat((self.encoder_track(a), self.encoder_track(b)))\n",
    "\n",
    "class EncoderSubTrackA(nn.Module):\n",
    "    def __init__(self):\n",
    "        super(EncoderSubTrackA, self).__init__()\n",
    "        self.encodermodules = nn.ModuleList([\n",
    "            EncMod(1 if i == 0 else 2 ** (i + 1), 2 ** (i + 2)) for i in range(0, 1) \n",
    "        ])\n",
    "    def encoder_track(self, x):\n",
    "        for encoder in self.encodermodules:\n",
    "            x = encoder(x)\n",
    "        return x\n",
    "    def forward(self, a, b):\n",
    "        return torch.concat((self.encoder_track(a), self.encoder_track(b)))\n",
    "\n",
    "class EncoderSubTrackB(nn.Module):\n",
    "    def __init__(self):\n",
    "        super(EncoderSubTrackB, self).__init__()\n",
    "        self.encodermodules = nn.ModuleList([\n",
    "            EncMod(1 if i == 0 else 2 ** (i + 1), 2 ** (i + 2)) for i in range(0, 2) \n",
    "        ])\n",
    "    def encoder_track(self, x):\n",
    "        for encoder in self.encodermodules:\n",
    "            x = encoder(x)\n",
    "        return x\n",
    "    def forward(self, a, b):\n",
    "        return torch.concat((self.encoder_track(a), self.encoder_track(b)))\n",
    "\n",
    "class EncoderSubTrackC(nn.Module):\n",
    "    def __init__(self):\n",
    "        super(EncoderSubTrackC, self).__init__()\n",
    "        self.encodermodules = nn.ModuleList([\n",
    "            EncMod(1 if i == 0 else 2 ** (i + 1), 2 ** (i + 2)) for i in range(0, 3) \n",
    "        ])\n",
    "    def encoder_track(self, x):\n",
    "        for encoder in self.encodermodules:\n",
    "            x = encoder(x)\n",
    "        return x\n",
    "    def forward(self, a, b):\n",
    "        return torch.concat((self.encoder_track(a), self.encoder_track(b)))\n",
    "\n",
    "class EncoderSubTrackD(nn.Module):\n",
    "    def __init__(self):\n",
    "        super(EncoderSubTrackD, self).__init__()\n",
    "        self.encodermodules = nn.ModuleList([\n",
    "            EncMod(1 if i == 0 else 2 ** (i + 1), 2 ** (i + 2)) for i in range(0, 4) \n",
    "        ])\n",
    "    def encoder_track(self, x):\n",
    "        for encoder in self.encodermodules:\n",
    "            x = encoder(x)\n",
    "        return x\n",
    "    def forward(self, a, b):\n",
    "        return torch.concat((self.encoder_track(a), self.encoder_track(b)))\n",
    "\n",
    "class DecoderTrack(nn.Module):\n",
    "    def __init__(self):\n",
    "        super(DecoderTrack, self).__init__()\n",
    "        self.convmodules = nn.ModuleList([ \n",
    "            CnvMod(2 ** (i + 2), 2 ** (i + 2)) for i in range(5, 0, -1)\n",
    "            ])\n",
    "        self.decodermodules = nn.ModuleList([ \n",
    "            DecMod(2 ** (i + 2), 2 ** (i + 1)) for i in range(5, 0, -1)\n",
    "            ])\n",
    "        self.map = nn.ModuleList([ \n",
    "            Map(2 ** (i + 1), 2 ** (i + 2)) for i in range(5, 0, -1)\n",
    "            ])\n",
    "\n",
    "    def forward(self, x):\n",
    "        for cnv, dec, mp in zip(self.convmodules, self.decodermodules, self.map):\n",
    "            x = mp(dec(cnv(x)))\n",
    "        return x\n",
    "\n",
    "class DecoderTrackA(nn.Module):\n",
    "    def __init__(self):\n",
    "        super(DecoderTrackA, self).__init__()\n",
    "        self.convmodules = CnvMod(128, 128)\n",
    "        self.decodermodules = DecMod(128, 64)\n",
    "        self.map = Map(64, 32)\n",
    "\n",
    "    def forward(self, x):\n",
    "        return self.map(self.decodermodules(self.convmodules(x)))\n",
    "\n",
    "class DecoderTrackB(nn.Module):\n",
    "    def __init__(self):\n",
    "        super(DecoderTrackB, self).__init__()\n",
    "        self.convmodules = CnvMod(32, 64)\n",
    "        self.decodermodules = DecMod(64, 32)\n",
    "        self.map = Map(32, 16)\n",
    "\n",
    "    def forward(self, x):\n",
    "        return self.map(self.decodermodules(self.convmodules(x)))\n",
    "\n",
    "class DecoderTrackC(nn.Module):\n",
    "    def __init__(self):\n",
    "        super(DecoderTrackC, self).__init__()\n",
    "        self.convmodules = CnvMod(16, 32)\n",
    "        self.decodermodules = DecMod(32, 16)\n",
    "        self.map = Map(16, 8)\n",
    "\n",
    "    def forward(self, x):\n",
    "        return self.map(self.decodermodules(self.convmodules(x)))\n",
    "\n",
    "class DecoderTrackD(nn.Module):\n",
    "    def __init__(self):\n",
    "        super(DecoderTrackD, self).__init__()\n",
    "        self.convmodules = CnvMod(8, 16)\n",
    "        self.decodermodules = DecMod(16, 8)\n",
    "        self.map = Map(8, 4)\n",
    "\n",
    "    def forward(self, x):\n",
    "        return self.map(self.decodermodules(self.convmodules(x)))\n",
    "\n",
    "class DecoderTrackE(nn.Module):\n",
    "    def __init__(self):\n",
    "        super(DecoderTrackE, self).__init__()\n",
    "        self.convmodules = CnvMod(4, 8)\n",
    "        self.decodermodules = DecMod(8, 4)\n",
    "        self.map = Map(4, 2)\n",
    "\n",
    "    def forward(self, x):\n",
    "        return self.map(self.decodermodules(self.convmodules(x)))\n",
    "        \n",
    "class CondNet(nn.Module):\n",
    "    def __init__(self):\n",
    "        super(CondNet, self).__init__()\n",
    "        self.encoder = EncoderTrack()\n",
    "\n",
    "    def forward(self, a, b):\n",
    "        x = self.encoder(a, b)\n",
    "                                 \n",
    "        return x\n",
    "\n",
    "#summary(CondNet(), (1, 48, 48), device = 'cuda')"
   ]
  },
  {
   "cell_type": "code",
   "execution_count": 5,
   "metadata": {},
   "outputs": [],
   "source": [
    "model = CondNet().to('cpu')\n",
    "output = model(t1w, t1w)"
   ]
  },
  {
   "cell_type": "code",
   "execution_count": 6,
   "metadata": {},
   "outputs": [
    {
     "data": {
      "text/plain": [
       "<matplotlib.colorbar.Colorbar at 0x18e08b48b80>"
      ]
     },
     "execution_count": 6,
     "metadata": {},
     "output_type": "execute_result"
    },
    {
     "data": {
      "image/png": "[encoded data removed]",
      "text/plain": [
       "<Figure size 432x288 with 2 Axes>"
      ]
     },
     "metadata": {
      "needs_background": "light"
     },
     "output_type": "display_data"
    }
   ],
   "source": [
    "import numpy as np\n",
    "import matplotlib.pyplot as plt\n",
    "from PIL import Image\n",
    "import warnings\n",
    "warnings.filterwarnings('ignore')\n",
    "\n",
    "\n",
    "transform = transforms.Compose([\n",
    "    transforms.Normalize(\n",
    "        mean=[0.485],\n",
    "        std =[0.229]),\n",
    "    transforms.Resize((48))\n",
    "])\n",
    "# out = transform(output)\n",
    "out = transform(output)\n",
    "out = out.permute(2, 3, 0, 1).detach().numpy()\n",
    "plt.imshow(np.abs(out[:, :, 100, 0]))\n",
    "plt.colorbar()"
   ]
  },
  {
   "cell_type": "code",
   "execution_count": 7,
   "metadata": {},
   "outputs": [],
   "source": [
    "class Cond1(nn.Module):\n",
    "    def __init__(self):\n",
    "        super(Cond1, self).__init__()\n",
    "        self.sub_encoderD = EncoderSubTrackD()\n",
    "        self.sub_encoderC = EncoderSubTrackC()\n",
    "        self.sub_encoderB = EncoderSubTrackB()\n",
    "        self.sub_encoderA = EncoderSubTrackA()\n",
    "\n",
    "    def forward(self, a, b):\n",
    "        skipA = self.sub_encoderD(a, b)      \n",
    "        skipB = self.sub_encoderC(a, b)     \n",
    "        skipC = self.sub_encoderB(a, b)      \n",
    "        skipD = self.sub_encoderA(a, b)        \n",
    "                                                  \n",
    " \n",
    "        return skipA, skipB, skipC, skipD\n",
    "\n",
    "model1 = Cond1()\n",
    "encoderA, encoderB, encoderC, encoderD = model1(t1w, t1w)"
   ]
  },
  {
   "cell_type": "code",
   "execution_count": 23,
   "metadata": {},
   "outputs": [
    {
     "data": {
      "text/plain": [
       "<matplotlib.colorbar.Colorbar at 0x18e1192ab20>"
      ]
     },
     "execution_count": 23,
     "metadata": {},
     "output_type": "execute_result"
    },
    {
     "data": {
      "image/png": "[encoded data removed]",
      "text/plain": [
       "<Figure size 432x288 with 2 Axes>"
      ]
     },
     "metadata": {
      "needs_background": "light"
     },
     "output_type": "display_data"
    }
   ],
   "source": [
    "import matplotlib.pyplot as plt\n",
    "transform = transforms.Compose([\n",
    "    transforms.Normalize(\n",
    "        mean=[0.485],\n",
    "        std =[0.229]),\n",
    "    transforms.Resize((50))\n",
    "])\n",
    "\n",
    "encA = transform(concatE)\n",
    "encA = transform(encA).permute(2, 3, 0, 1).detach().numpy()\n",
    "plt.imshow(np.abs(encA[:, :, 140, 0]))\n",
    "plt.colorbar()"
   ]
  },
  {
   "cell_type": "code",
   "execution_count": 10,
   "metadata": {},
   "outputs": [],
   "source": [
    "class DecoderTrackA(nn.Module):\n",
    "    def __init__(self):\n",
    "        super(DecoderTrackA, self).__init__()\n",
    "        self.convmodules = CnvMod(128, 128)\n",
    "        self.decodermodules = DecMod(128, 64)\n",
    "        self.map = Map(64, 32)\n",
    "\n",
    "    def forward(self, x):\n",
    "        return self.map(self.decodermodules(self.convmodules(x)))\n",
    "\n",
    "decoderA = DecoderTrackA()\n",
    "decA = decoderA(output)"
   ]
  },
  {
   "cell_type": "code",
   "execution_count": 11,
   "metadata": {},
   "outputs": [],
   "source": [
    "concatB = torch.concat((encoderA[:, :, :47, :47], encoderA[:, :, :47, :47], decA))"
   ]
  },
  {
   "cell_type": "code",
   "execution_count": 12,
   "metadata": {},
   "outputs": [],
   "source": [
    "class DecoderTrackB(nn.Module):\n",
    "    def __init__(self):\n",
    "        super(DecoderTrackB, self).__init__()\n",
    "        self.convmodules = CnvMod(32, 64)\n",
    "        self.decodermodules = DecMod(64, 32)\n",
    "        self.map = Map(32, 16)\n",
    "\n",
    "    def forward(self, x):\n",
    "        return self.map(self.decodermodules(self.convmodules(x)))\n",
    "\n",
    "decoderB = DecoderTrackB()\n",
    "decB = decoderB(concatB)"
   ]
  },
  {
   "cell_type": "code",
   "execution_count": 13,
   "metadata": {},
   "outputs": [],
   "source": [
    "concatC = torch.concat((encoderB[:, :, :45, :45], encoderB[:, :, :45, :45], decB))"
   ]
  },
  {
   "cell_type": "code",
   "execution_count": 14,
   "metadata": {},
   "outputs": [],
   "source": [
    "class DecoderTrackC(nn.Module):\n",
    "    def __init__(self):\n",
    "        super(DecoderTrackC, self).__init__()\n",
    "        self.convmodules = CnvMod(16, 32)\n",
    "        self.decodermodules = DecMod(32, 16)\n",
    "        self.map = Map(16, 8)\n",
    "\n",
    "    def forward(self, x):\n",
    "        return self.map(self.decodermodules(self.convmodules(x)))\n",
    "\n",
    "decoderC = DecoderTrackC()\n",
    "decC = decoderC(concatC)"
   ]
  },
  {
   "cell_type": "code",
   "execution_count": 15,
   "metadata": {},
   "outputs": [],
   "source": [
    "concatD = torch.concat((encoderC[:, :, :43, :43], encoderC[:, :, :43, :43], decC))"
   ]
  },
  {
   "cell_type": "code",
   "execution_count": 16,
   "metadata": {},
   "outputs": [],
   "source": [
    "class DecoderTrackD(nn.Module):\n",
    "    def __init__(self):\n",
    "        super(DecoderTrackD, self).__init__()\n",
    "        self.convmodules = CnvMod(8, 16)\n",
    "        self.decodermodules = DecMod(16, 8)\n",
    "        self.map = Map(8, 4)\n",
    "\n",
    "    def forward(self, x):\n",
    "        return self.map(self.decodermodules(self.convmodules(x)))\n",
    "\n",
    "decoderD = DecoderTrackD()\n",
    "decD = decoderD(concatD)"
   ]
  },
  {
   "cell_type": "code",
   "execution_count": 17,
   "metadata": {},
   "outputs": [],
   "source": [
    "concatE = torch.concat((encoderD[:, :, :41, :41], encoderD[:, :, :41, :41], decD))"
   ]
  },
  {
   "cell_type": "code",
   "execution_count": 18,
   "metadata": {},
   "outputs": [],
   "source": [
    "class DecoderTrackE(nn.Module):\n",
    "    def __init__(self):\n",
    "        super(DecoderTrackE, self).__init__()\n",
    "        self.convmodules = CnvMod(4, 8)\n",
    "        self.decodermodules = DecMod(8, 4)\n",
    "        self.map = Map(4, 1)\n",
    "\n",
    "    def forward(self, x):\n",
    "        return self.map(self.decodermodules(self.convmodules(x)))\n",
    "\n",
    "decoderE = DecoderTrackE()\n",
    "decE = decoderE(concatE)"
   ]
  }
 ],
 "metadata": {
  "kernelspec": {
   "display_name": "Python 3",
   "language": "python",
   "name": "python3"
  },
  "language_info": {
   "codemirror_mode": {
    "name": "ipython",
    "version": 3
   },
   "file_extension": ".py",
   "mimetype": "text/x-python",
   "name": "python",
   "nbconvert_exporter": "python",
   "pygments_lexer": "ipython3",
   "version": "3.9.2"
  }
 },
 "nbformat": 4,
 "nbformat_minor": 4
}
